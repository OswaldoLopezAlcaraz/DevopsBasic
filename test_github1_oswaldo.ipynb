{
  "nbformat": 4,
  "nbformat_minor": 0,
  "metadata": {
    "colab": {
      "provenance": [],
      "authorship_tag": "ABX9TyOdYdkfrHzFCnh5Ol0AqMBh",
      "include_colab_link": true
    },
    "kernelspec": {
      "name": "python3",
      "display_name": "Python 3"
    },
    "language_info": {
      "name": "python"
    }
  },
  "cells": [
    {
      "cell_type": "markdown",
      "metadata": {
        "id": "view-in-github",
        "colab_type": "text"
      },
      "source": [
        "<a href=\"https://colab.research.google.com/github/OswaldoLopezAlcaraz/DevopsBasic/blob/hotfix/test_github1_oswaldo.ipynb\" target=\"_parent\"><img src=\"https://colab.research.google.com/assets/colab-badge.svg\" alt=\"Open In Colab\"/></a>"
      ]
    },
    {
      "cell_type": "markdown",
      "source": [
        "# Titulo\n",
        "Esta es una celda de prueba para github con el primer commit\n"
      ],
      "metadata": {
        "id": "qonzPw0Rg3mI"
      }
    },
    {
      "cell_type": "code",
      "source": [
        "print(\"Hello World!\")"
      ],
      "metadata": {
        "id": "6K_gGWQWhA75",
        "outputId": "449e2d35-8227-4fd2-8330-c595613d6b87",
        "colab": {
          "base_uri": "https://localhost:8080/"
        }
      },
      "execution_count": null,
      "outputs": [
        {
          "output_type": "stream",
          "name": "stdout",
          "text": [
            "Hello World!\n"
          ]
        }
      ]
    },
    {
      "cell_type": "code",
      "source": [
        "print('This is another commit')"
      ],
      "metadata": {
        "colab": {
          "base_uri": "https://localhost:8080/"
        },
        "id": "dE0kC_kDksWV",
        "outputId": "d5258bd4-8479-4175-8da8-305ec312e569"
      },
      "execution_count": 2,
      "outputs": [
        {
          "output_type": "stream",
          "name": "stdout",
          "text": [
            "This is another commit\n"
          ]
        }
      ]
    },
    {
      "cell_type": "markdown",
      "source": [
        "This is a commit to the hotfix branch"
      ],
      "metadata": {
        "id": "8JteYE00lyAU"
      }
    },
    {
      "cell_type": "code",
      "source": [],
      "metadata": {
        "id": "6sKcABX-l7jJ"
      },
      "execution_count": null,
      "outputs": []
    }
  ]
}